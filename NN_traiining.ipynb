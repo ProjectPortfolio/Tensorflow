{
  "nbformat": 4,
  "nbformat_minor": 0,
  "metadata": {
    "colab": {
      "name": "NN_traiining.ipynb",
      "provenance": []
    },
    "kernelspec": {
      "name": "python3",
      "display_name": "Python 3"
    }
  },
  "cells": [
    {
      "cell_type": "code",
      "metadata": {
        "id": "OeTGfQOoqqJA"
      },
      "source": [
        "#import libraries\n",
        "import tensorflow as tf\n",
        "import numpy"
      ],
      "execution_count": 6,
      "outputs": []
    },
    {
      "cell_type": "code",
      "metadata": {
        "id": "S_ds50SVrWGI"
      },
      "source": [
        "#load and prepare dataset\n",
        "minist = tf.keras.datasets.mnist\n"
      ],
      "execution_count": 2,
      "outputs": []
    },
    {
      "cell_type": "code",
      "metadata": {
        "colab": {
          "base_uri": "https://localhost:8080/"
        },
        "id": "U8c67trvrqCH",
        "outputId": "f70ff109-ef45-4f96-b7f9-99b3cb60081f"
      },
      "source": [
        "#divide data for train and test\n",
        "(x_train,y_train),(x_test,y_test) = minist.load_data()"
      ],
      "execution_count": 3,
      "outputs": [
        {
          "output_type": "stream",
          "text": [
            "Downloading data from https://storage.googleapis.com/tensorflow/tf-keras-datasets/mnist.npz\n",
            "11493376/11490434 [==============================] - 0s 0us/step\n"
          ],
          "name": "stdout"
        }
      ]
    },
    {
      "cell_type": "code",
      "metadata": {
        "id": "tlMFWzYFr1fJ"
      },
      "source": [
        "#convert sample from integer to float\n",
        "x_train,x_test = x_train/255.0 , x_test/255.0"
      ],
      "execution_count": 4,
      "outputs": []
    },
    {
      "cell_type": "code",
      "metadata": {
        "id": "mcW5ssX-sCvG"
      },
      "source": [
        "#build the keras.sequential model layer by stacking layer and choose optimizer and loss function\n",
        "\n",
        "model = tf.keras.Sequential([\n",
        "                             tf.keras.layers.Flatten(input_shape = (28,28)),\n",
        "                             tf.keras.layers.Dense(128,activation='relu'),\n",
        "                             tf.keras.layers.Dropout(0.2),\n",
        "                             tf.keras.layers.Dense(10)\n",
        "])"
      ],
      "execution_count": 5,
      "outputs": []
    },
    {
      "cell_type": "code",
      "metadata": {
        "colab": {
          "base_uri": "https://localhost:8080/"
        },
        "id": "DLdhqBCqtRae",
        "outputId": "732185a2-213a-4d08-9b38-1c44bd971699"
      },
      "source": [
        "predictions = model(x_train[:1]).numpy()\n",
        "predictions"
      ],
      "execution_count": 8,
      "outputs": [
        {
          "output_type": "execute_result",
          "data": {
            "text/plain": [
              "array([[ 0.12967013, -0.17519394, -0.04334531, -0.15256375, -0.28383964,\n",
              "        -0.13992439, -0.28292048, -0.09272856, -0.03159475,  0.30577955]],\n",
              "      dtype=float32)"
            ]
          },
          "metadata": {
            "tags": []
          },
          "execution_count": 8
        }
      ]
    },
    {
      "cell_type": "code",
      "metadata": {
        "colab": {
          "base_uri": "https://localhost:8080/"
        },
        "id": "Dgh3nfsMtefJ",
        "outputId": "c3acef64-c737-4e89-c669-31765ced771e"
      },
      "source": [
        "#The tf.nn.softmax function converts these logits to \"probabilities\" for each class:\n",
        "\n",
        "tf.nn.softmax(predictions).numpy()"
      ],
      "execution_count": 9,
      "outputs": [
        {
          "output_type": "execute_result",
          "data": {
            "text/plain": [
              "array([[0.12101228, 0.0892131 , 0.10178641, 0.09125503, 0.08002845,\n",
              "        0.09241576, 0.08010204, 0.09688196, 0.10298952, 0.14431544]],\n",
              "      dtype=float32)"
            ]
          },
          "metadata": {
            "tags": []
          },
          "execution_count": 9
        }
      ]
    },
    {
      "cell_type": "code",
      "metadata": {
        "id": "iMJ9AUESttQ3"
      },
      "source": [
        "#The losses.SparseCategoricalCrossentropy loss takes a vector of logits and a True index and returns a scalar loss for each example.\n",
        "loss_fn = tf.keras.losses.SparseCategoricalCrossentropy(from_logits=True)"
      ],
      "execution_count": 10,
      "outputs": []
    },
    {
      "cell_type": "code",
      "metadata": {
        "id": "Xmyfmm8cuF7C"
      },
      "source": [
        "#This loss is equal to the negative log probability of the true class: It is zero if the model is sure of the correct class.\n",
        "\n",
        "#This untrained model gives probabilities close to random (1/10 for each class), so the initial loss should be close to -tf.math.log(1/10) ~= 2.3.\n",
        "\n"
      ],
      "execution_count": 11,
      "outputs": []
    },
    {
      "cell_type": "code",
      "metadata": {
        "colab": {
          "base_uri": "https://localhost:8080/"
        },
        "id": "qWpxp6icuWsN",
        "outputId": "b12cc2ee-c086-43bf-bc9c-3d856f33e73e"
      },
      "source": [
        "loss_fn(y_train[:1],predictions).numpy()"
      ],
      "execution_count": 12,
      "outputs": [
        {
          "output_type": "execute_result",
          "data": {
            "text/plain": [
              "2.3814578"
            ]
          },
          "metadata": {
            "tags": []
          },
          "execution_count": 12
        }
      ]
    },
    {
      "cell_type": "code",
      "metadata": {
        "id": "CvKWhgi5uiWV"
      },
      "source": [
        "model.compile(optimizer='adam',loss = loss_fn,metrics=['accuracy'])\n"
      ],
      "execution_count": 13,
      "outputs": []
    },
    {
      "cell_type": "code",
      "metadata": {
        "colab": {
          "base_uri": "https://localhost:8080/"
        },
        "id": "UhdwbRSSuxo0",
        "outputId": "e76c32ba-9418-478e-904d-5d91cc6c6c4e"
      },
      "source": [
        "#The Model.fit method adjusts the model parameters to minimize the loss:\n",
        "\n",
        "model.fit(x_train,y_train,epochs=5)"
      ],
      "execution_count": 14,
      "outputs": [
        {
          "output_type": "stream",
          "text": [
            "Epoch 1/5\n",
            "1875/1875 [==============================] - 4s 2ms/step - loss: 0.4840 - accuracy: 0.8613\n",
            "Epoch 2/5\n",
            "1875/1875 [==============================] - 3s 2ms/step - loss: 0.1498 - accuracy: 0.9557\n",
            "Epoch 3/5\n",
            "1875/1875 [==============================] - 3s 2ms/step - loss: 0.1100 - accuracy: 0.9667\n",
            "Epoch 4/5\n",
            "1875/1875 [==============================] - 3s 2ms/step - loss: 0.0914 - accuracy: 0.9719\n",
            "Epoch 5/5\n",
            "1875/1875 [==============================] - 3s 2ms/step - loss: 0.0748 - accuracy: 0.9761\n"
          ],
          "name": "stdout"
        },
        {
          "output_type": "execute_result",
          "data": {
            "text/plain": [
              "<tensorflow.python.keras.callbacks.History at 0x7f7d5665edd0>"
            ]
          },
          "metadata": {
            "tags": []
          },
          "execution_count": 14
        }
      ]
    },
    {
      "cell_type": "code",
      "metadata": {
        "colab": {
          "base_uri": "https://localhost:8080/"
        },
        "id": "spUEelADu5yx",
        "outputId": "99b9dd20-8651-426d-a475-fc7d06067420"
      },
      "source": [
        "#The Model.evaluate method checks the models performance, usually on a \"Validation-set\" or \"Test-set\".\n",
        "\n",
        "model.evaluate(x_test , y_test ,verbose=2)"
      ],
      "execution_count": 15,
      "outputs": [
        {
          "output_type": "stream",
          "text": [
            "313/313 - 0s - loss: 0.0805 - accuracy: 0.9756\n"
          ],
          "name": "stdout"
        },
        {
          "output_type": "execute_result",
          "data": {
            "text/plain": [
              "[0.0805259570479393, 0.975600004196167]"
            ]
          },
          "metadata": {
            "tags": []
          },
          "execution_count": 15
        }
      ]
    },
    {
      "cell_type": "code",
      "metadata": {
        "id": "6znpM21OvGsX"
      },
      "source": [
        "#The image classifier is now trained to ~98% accuracy on this dataset. \n",
        "#If you want your model to return a probability, you can wrap the trained model, and attach the softmax to it:\n",
        "probability_model = tf.keras.Sequential([\n",
        "                                         model,tf.keras.layers.Softmax()\n",
        "])"
      ],
      "execution_count": 16,
      "outputs": []
    },
    {
      "cell_type": "code",
      "metadata": {
        "colab": {
          "base_uri": "https://localhost:8080/"
        },
        "id": "av8A_ZPAvebH",
        "outputId": "071a1af8-e54d-42ae-c5b8-f85a6c2d77f4"
      },
      "source": [
        "probability_model(x_test[:5])"
      ],
      "execution_count": 17,
      "outputs": [
        {
          "output_type": "execute_result",
          "data": {
            "text/plain": [
              "<tf.Tensor: shape=(5, 10), dtype=float32, numpy=\n",
              "array([[1.62408043e-08, 2.21836371e-09, 5.20990034e-06, 1.86893540e-05,\n",
              "        1.91546813e-11, 4.47578756e-08, 3.16339348e-13, 9.99973774e-01,\n",
              "        5.86056217e-07, 1.71340082e-06],\n",
              "       [1.56598894e-08, 2.41340103e-07, 9.99998927e-01, 8.04041349e-07,\n",
              "        2.71274337e-18, 9.35595956e-09, 6.31702246e-10, 8.51972084e-13,\n",
              "        4.81556661e-09, 7.92432079e-17],\n",
              "       [1.48020554e-04, 9.70579624e-01, 3.00099305e-03, 3.02897824e-04,\n",
              "        1.14541006e-04, 3.50760420e-05, 3.23378132e-04, 2.47978028e-02,\n",
              "        6.94786315e-04, 3.00583633e-06],\n",
              "       [9.99587476e-01, 1.11980283e-08, 3.61107785e-04, 8.83767996e-07,\n",
              "        6.39519016e-08, 2.57435545e-07, 2.58323257e-06, 2.52533846e-05,\n",
              "        2.89964870e-08, 2.22189319e-05],\n",
              "       [3.49128572e-06, 8.70840455e-10, 2.50401513e-06, 3.01137888e-08,\n",
              "        9.99506474e-01, 2.64073833e-07, 3.08691064e-08, 1.70744504e-04,\n",
              "        1.31979434e-07, 3.16452672e-04]], dtype=float32)>"
            ]
          },
          "metadata": {
            "tags": []
          },
          "execution_count": 17
        }
      ]
    },
    {
      "cell_type": "code",
      "metadata": {
        "id": "N0OjF0spvkX1"
      },
      "source": [
        ""
      ],
      "execution_count": null,
      "outputs": []
    }
  ]
}